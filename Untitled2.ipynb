{
  "nbformat": 4,
  "nbformat_minor": 0,
  "metadata": {
    "colab": {
      "name": "Untitled2.ipynb",
      "provenance": [],
      "authorship_tag": "ABX9TyPpeJMUqlOks0fyD3CZI7Ui",
      "include_colab_link": true
    },
    "kernelspec": {
      "name": "python3",
      "display_name": "Python 3"
    },
    "language_info": {
      "name": "python"
    }
  },
  "cells": [
    {
      "cell_type": "markdown",
      "metadata": {
        "id": "view-in-github",
        "colab_type": "text"
      },
      "source": [
        "<a href=\"https://colab.research.google.com/github/953rd/Proj_1sem_Yatskov/blob/master/Untitled2.ipynb\" target=\"_parent\"><img src=\"https://colab.research.google.com/assets/colab-badge.svg\" alt=\"Open In Colab\"/></a>"
      ]
    },
    {
      "cell_type": "markdown",
      "source": [
        "ПЗ №5"
      ],
      "metadata": {
        "id": "sppTgc5g7gWm"
      }
    },
    {
      "cell_type": "markdown",
      "source": [
        "Найти сумму чисел ряда 1,2,3,...,60 с использованием функции нахождения суммы. Использовать локальные переменные."
      ],
      "metadata": {
        "id": "guATp84h7quW"
      }
    },
    {
      "cell_type": "code",
      "source": [
        "# Найти сумму чисел ряда 1,2,3,...,60 с использованием функции\n",
        "# нахождения суммы. Использовать локальные переменные.\n",
        "\n",
        "def sum1():\n",
        "    a = sum(range(1, 61))\n",
        "    print(a)\n",
        "\n",
        "\n",
        "sum1()"
      ],
      "metadata": {
        "id": "g0vfh4mO7rtP"
      },
      "execution_count": null,
      "outputs": []
    },
    {
      "cell_type": "markdown",
      "source": [
        "Описать функцию SortInc3 (A, B, C), меняющую содержимое переменных A, B, C таким образом, чтобы их значения оказались упорядоченными по возрастанию (A, B, C - вещественные параметры, являющиеся одновременно входными и выходными). С помощью этой функции упорядочить по возрастанию два данных набора из трех чисел: (Ai, Bi, Ci) и (A2, B2, C2,)."
      ],
      "metadata": {
        "id": "z0dOZ3Or7rzm"
      }
    },
    {
      "cell_type": "code",
      "source": [
        "# Описать функцию SortInc3 (A, B, C), меняющую содержимое\n",
        "# переменных A, B, C таким образом, чтобы их значения\n",
        "# оказались упорядоченными по возрастанию\n",
        "# (A, B, C - вещественные параметры, являющиеся\n",
        "# одновременно входными и выходными).\n",
        "# С помощью этой функции упорядочить по возрастанию\n",
        "# два данных набора из трех чисел: (Ai, Bi, Ci) и\n",
        "# (A2, B2, C2,).\n",
        "\n",
        "def SortInc3():\n",
        "    a = float(input(\"Введите число A: \"))\n",
        "    b = float(input(\"Введите число B: \"))\n",
        "    c = float(input(\"Введите число C: \"))\n",
        "    if (a > b) and (a > c):\n",
        "        a, c = c, a\n",
        "    if (a < b) and (b > c):\n",
        "        b, c = c, b\n",
        "    if (a > b) and (b < c):\n",
        "        a, b = b, a\n",
        "    print(a, b, c)\n",
        "\n",
        "\n",
        "SortInc3()\n",
        "SortInc3()"
      ],
      "metadata": {
        "id": "77wvDKPP7r4g"
      },
      "execution_count": null,
      "outputs": []
    }
  ]
}