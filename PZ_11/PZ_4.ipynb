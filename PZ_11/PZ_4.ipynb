{
  "nbformat": 4,
  "nbformat_minor": 0,
  "metadata": {
    "colab": {
      "name": "Untitled1.ipynb",
      "provenance": [],
      "authorship_tag": "ABX9TyPDOQvytZFet2uyV0dYRWWy",
      "include_colab_link": true
    },
    "kernelspec": {
      "name": "python3",
      "display_name": "Python 3"
    },
    "language_info": {
      "name": "python"
    }
  },
  "cells": [
    {
      "cell_type": "markdown",
      "metadata": {
        "id": "view-in-github",
        "colab_type": "text"
      },
      "source": [
        "<a href=\"https://colab.research.google.com/github/953rd/Proj_1sem_Yatskov/blob/master/PZ_11/PZ_3.ipynb\" target=\"_parent\"><img src=\"https://colab.research.google.com/assets/colab-badge.svg\" alt=\"Open In Colab\"/></a>"
      ]
    },
    {
      "cell_type": "markdown",
      "source": [
        "ПЗ №4"
      ],
      "metadata": {
        "id": "081msbg77Eh4"
      }
    },
    {
      "cell_type": "markdown",
      "source": [
        "Дано вещественное число A и целое число N (>0). Найти A в степени N: AN = AA ... •A (числа A перемножаются N раз)."
      ],
      "metadata": {
        "id": "JYNiAAPQ7FH2"
      }
    },
    {
      "cell_type": "code",
      "source": [
        "# Дано вещественное число A и целое число N (>0).\n",
        "# Найти A в степени N: AN = AA ... •A (числа A перемножаются N раз).\n",
        "\n",
        "a = input(\"Введите число a: \")\n",
        "while type(a) != float:    # Обработка исключений\n",
        "    try:\n",
        "        a = float(a)\n",
        "    except ValueError:\n",
        "        print(\"Введено неверное число!\")\n",
        "        a = input(\"Введите число a: \")\n",
        "\n",
        "n = input(\"Введите число n: \")\n",
        "while type(n) != int:    # Обработка исключений\n",
        "    try:\n",
        "        n = int(n)\n",
        "    except ValueError:\n",
        "        print(\"Введено неверное число!\")\n",
        "        a = input(\"Введите число n: \")\n",
        "    try:\n",
        "        while n <= 0:    # Ограничение: n - положительное число\n",
        "            print(\"Введено неверное число!\")\n",
        "            a = input(\"Введите число n: \")\n",
        "    except TypeError:\n",
        "        continue\n",
        "\n",
        "k = 1\n",
        "an = a\n",
        "while k < n:    # Пока счетчик меньше n число будет перемножаться само на себя\n",
        "    an *= a\n",
        "    k += 1\n",
        "print(an)"
      ],
      "metadata": {
        "id": "w-hHsvpK7FeX"
      },
      "execution_count": null,
      "outputs": []
    },
    {
      "cell_type": "markdown",
      "source": [
        "Дано целое число N (>0). С помощью операций деления нацело и взятия остатка от деления определить, имеются ли в записи числа N нечетные цифры. Если имеются, то вывести TRUE, если нет — вывести FALSE."
      ],
      "metadata": {
        "id": "5gxyrrlC7FtW"
      }
    },
    {
      "cell_type": "code",
      "source": [
        "# Дано целое число N (>0). С помощью операций деления нацело\n",
        "# и взятия остатка от деления определить, имеются ли\n",
        "# в записи числа N нечетные цифры. Если имеются,\n",
        "# то вывести TRUE, если нет — вывести FALSE.\n",
        "\n",
        "n = input(\"Введите число: \")\n",
        "while type(n) != int:    # Обработка исключений\n",
        "    try:\n",
        "        n = int(n)\n",
        "    except ValueError:\n",
        "        print(\"Введено не верное число.\")\n",
        "        n = input(\"Введите число: \")\n",
        "    try:\n",
        "        while n < 0:    # Ограничение: n - положительное число\n",
        "            print(\"Введено не верное число.\")\n",
        "            n = input(\"Введите число: \")\n",
        "    except TypeError:\n",
        "        continue\n",
        "\n",
        "p = 0\n",
        "s = 0\n",
        "while n > 0:    # Проверка каждой цифры в числе на четность\n",
        "    if n % 2 != 0:\n",
        "        p = 1\n",
        "        n = n // 10\n",
        "    else:\n",
        "        p = 0\n",
        "        n = n // 10\n",
        "    s += p\n",
        "\n",
        "if s >= 1:    # Если s >= 1, значит в числе присутствует нечетное число\n",
        "    print(\"True\")\n",
        "else:\n",
        "    print(\"False\")"
      ],
      "metadata": {
        "id": "Q_3JSXtW7Fy2"
      },
      "execution_count": null,
      "outputs": []
    }
  ]
}
