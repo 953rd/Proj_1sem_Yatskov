{
  "nbformat": 4,
  "nbformat_minor": 0,
  "metadata": {
    "colab": {
      "name": "Untitled3.ipynb",
      "provenance": [],
      "toc_visible": true,
      "authorship_tag": "ABX9TyNINnX1RcbeDt59uJRdCZ7k",
      "include_colab_link": true
    },
    "kernelspec": {
      "name": "python3",
      "display_name": "Python 3"
    },
    "language_info": {
      "name": "python"
    }
  },
  "cells": [
    {
      "cell_type": "markdown",
      "metadata": {
        "id": "view-in-github",
        "colab_type": "text"
      },
      "source": [
        "<a href=\"https://colab.research.google.com/github/953rd/Proj_1sem_Yatskov/blob/master/PZ_11/PZ_3-5.ipynb\" target=\"_parent\"><img src=\"https://colab.research.google.com/assets/colab-badge.svg\" alt=\"Open In Colab\"/></a>"
      ]
    },
    {
      "cell_type": "markdown",
      "source": [
        "# ПЗ №3"
      ],
      "metadata": {
        "id": "9u_1XCsrhFjc"
      }
    },
    {
      "cell_type": "markdown",
      "source": [
        "№1.\n",
        "Даны целые числа a, b, c, являющиеся сторонами некоторого треугольника. Проверить истинность высказывания: «Треугольник со сторонами a, b, c является равнобедренным»."
      ],
      "metadata": {
        "id": "UA7w__owhejB"
      }
    },
    {
      "cell_type": "code",
      "source": [
        "# Даны целые числа a, b, c, являющиеся сторонами некоторого треугольника.\n",
        "# Проверить истинность высказывания:\n",
        "# «Треугольник со сторонами a, b, c является равнобедренным».\n",
        "\n",
        "a = input(\"Введите размер стороны a треугольника: \")\n",
        "while type(a) != int:   # Обработка исключений\n",
        "    try:\n",
        "        a = int(a)\n",
        "    except ValueError:\n",
        "        print(\"Введен неверный размер!\")\n",
        "        a = input(\"Введите размер стороны a треугольника: \")\n",
        "\n",
        "b = input(\"Введите размер стороны b треугольника: \")\n",
        "while type(b) != int:   # Обработка исключений\n",
        "    try:\n",
        "        b = int(b)\n",
        "    except ValueError:\n",
        "        print(\"Введен неверный размер!\")\n",
        "        b = input(\"Введите размер стороны a треугольника: \")\n",
        "\n",
        "c = input(\"Введите размер стороны c треугольника: \")\n",
        "while type(c) != int:   # Обработка исключений\n",
        "    try:\n",
        "        c = int(c)\n",
        "    except ValueError:\n",
        "        print(\"Введен неверный размер!\")\n",
        "        c = input(\"Введите размер стороны a треугольника: \")\n",
        "\n",
        "if (a==b) or (a==c) or (b==c):\n",
        "    print(\"Высказывание «Треугольник со сторонами a, b, c является равнобедренным»\"\n",
        "          \" является истинным.\")\n",
        "else:\n",
        "    print(\"Высказывание «Треугольник со сторонами a, b, c является равнобедренным»\"\n",
        "          \" является ложным.\")"
      ],
      "metadata": {
        "id": "TTgGPJQ7hjwT"
      },
      "execution_count": null,
      "outputs": []
    },
    {
      "cell_type": "markdown",
      "source": [
        "№2. Даны три числа. Найти сумму двух наибольших из них."
      ],
      "metadata": {
        "id": "p-4Yy7h5hxGe"
      }
    },
    {
      "cell_type": "code",
      "source": [
        "# Даны три числа. Найти сумму двух наибольших из них.\n",
        "\n",
        "a = input(\"Введите 1-ое число: \")\n",
        "while type(a) != float:  # Обработка исключений\n",
        "    try:\n",
        "        a = float(a)\n",
        "    except ValueError:\n",
        "        print(\"Введено не число!\")\n",
        "        a = input(\"Введите 1-ое число: \")\n",
        "\n",
        "b = input(\"Введите 2-ое число: \")\n",
        "while type(b) != float:  # Обработка исключений\n",
        "    try:\n",
        "        b = float(b)\n",
        "    except ValueError:\n",
        "        print(\"Введено не число!\")\n",
        "        b = input(\"Введите 2-ое число: \")\n",
        "\n",
        "c = input(\"Введите 3-е число: \")\n",
        "while type(c) != float:  # Обработка исключений\n",
        "    try:\n",
        "        c = float(c)\n",
        "    except ValueError:\n",
        "        print(\"Введено не число!\")\n",
        "        c = input(\"Введите 3-е число: \")\n",
        "\n",
        "if (a > b > c):\n",
        "    print(\"Сумма двух наибольших чисел равна:\", a + b)\n",
        "elif (a > c > b):\n",
        "    print(\"Сумма двух наибольших чисел равна:\", a + c)\n",
        "else:\n",
        "    print(\"Сумма двух наибольших чисел равна:\", b + c)"
      ],
      "metadata": {
        "id": "uRc_793lhxfB"
      },
      "execution_count": null,
      "outputs": []
    },
    {
      "cell_type": "markdown",
      "source": [
        "# ПЗ №4"
      ],
      "metadata": {
        "id": "hXTo6ux7hP6k"
      }
    },
    {
      "cell_type": "markdown",
      "source": [
        "№1. Дано вещественное число A и целое число N (>0). Найти A в степени N: AN = AA ... •A (числа A перемножаются N раз)."
      ],
      "metadata": {
        "id": "UHR7BZs1hc8o"
      }
    },
    {
      "cell_type": "code",
      "source": [
        "# Дано вещественное число A и целое число N (>0).\n",
        "# Найти A в степени N: AN = AA ... •A (числа A перемножаются N раз).\n",
        "\n",
        "a = input(\"Введите число a: \")\n",
        "while type(a) != float:    # Обработка исключений\n",
        "    try:\n",
        "        a = float(a)\n",
        "    except ValueError:\n",
        "        print(\"Введено неверное число!\")\n",
        "        a = input(\"Введите число a: \")\n",
        "\n",
        "n = input(\"Введите число n: \")\n",
        "while type(n) != int:    # Обработка исключений\n",
        "    try:\n",
        "        n = int(n)\n",
        "    except ValueError:\n",
        "        print(\"Введено неверное число!\")\n",
        "        a = input(\"Введите число n: \")\n",
        "    try:\n",
        "        while n <= 0:    # Ограничение: n - положительное число\n",
        "            print(\"Введено неверное число!\")\n",
        "            a = input(\"Введите число n: \")\n",
        "    except TypeError:\n",
        "        continue\n",
        "\n",
        "k = 1\n",
        "an = a\n",
        "while k < n:    # Пока счетчик меньше n число будет перемножаться само на себя\n",
        "    an *= a\n",
        "    k += 1\n",
        "print(an)"
      ],
      "metadata": {
        "id": "1GOn9m9EiSie"
      },
      "execution_count": null,
      "outputs": []
    },
    {
      "cell_type": "markdown",
      "source": [
        "№2. Дано целое число N (>0). С помощью операций деления нацело и взятия остатка от деления определить, имеются ли в записи числа N нечетные цифры. Если имеются, то вывести TRUE, если нет — вывести FALSE."
      ],
      "metadata": {
        "id": "AAgatRyqiV8-"
      }
    },
    {
      "cell_type": "code",
      "source": [
        "# Дано целое число N (>0). С помощью операций деления нацело\n",
        "# и взятия остатка от деления определить, имеются ли\n",
        "# в записи числа N нечетные цифры. Если имеются,\n",
        "# то вывести TRUE, если нет — вывести FALSE.\n",
        "\n",
        "n = input(\"Введите число: \")\n",
        "while type(n) != int:    # Обработка исключений\n",
        "    try:\n",
        "        n = int(n)\n",
        "    except ValueError:\n",
        "        print(\"Введено не верное число.\")\n",
        "        n = input(\"Введите число: \")\n",
        "    try:\n",
        "        while n < 0:    # Ограничение: n - положительное число\n",
        "            print(\"Введено не верное число.\")\n",
        "            n = input(\"Введите число: \")\n",
        "    except TypeError:\n",
        "        continue\n",
        "\n",
        "p = 0\n",
        "s = 0\n",
        "while n > 0:    # Проверка каждой цифры в числе на четность\n",
        "    if n % 2 != 0:\n",
        "        p = 1\n",
        "        n = n // 10\n",
        "    else:\n",
        "        p = 0\n",
        "        n = n // 10\n",
        "    s += p\n",
        "\n",
        "if s >= 1:    # Если s >= 1, значит в числе присутствует нечетное число\n",
        "    print(\"True\")\n",
        "else:\n",
        "    print(\"False\")"
      ],
      "metadata": {
        "id": "S_C_9OOjiWBw"
      },
      "execution_count": null,
      "outputs": []
    },
    {
      "cell_type": "markdown",
      "source": [
        "# ПЗ №5"
      ],
      "metadata": {
        "id": "1lQOXJw9jOUW"
      }
    },
    {
      "cell_type": "markdown",
      "source": [
        "№1. Найти сумму чисел ряда 1,2,3,...,60 с использованием функции нахождения суммы. Использовать локальные переменные."
      ],
      "metadata": {
        "id": "yuhF85qAjRMF"
      }
    },
    {
      "cell_type": "code",
      "source": [
        "# Найти сумму чисел ряда 1,2,3,...,60 с использованием функции\n",
        "# нахождения суммы. Использовать локальные переменные.\n",
        "\n",
        "def sum1():\n",
        "    a = sum(range(1, 61))\n",
        "    print(a)\n",
        "\n",
        "\n",
        "sum1()"
      ],
      "metadata": {
        "id": "oE4tIIGCjRTS"
      },
      "execution_count": null,
      "outputs": []
    },
    {
      "cell_type": "markdown",
      "source": [
        "№2. Описать функцию SortInc3 (A, B, C), меняющую содержимое переменных A, B, C таким образом, чтобы их значения оказались упорядоченными по возрастанию (A, B, C - вещественные параметры, являющиеся одновременно входными и выходными). С помощью этой функции упорядочить по возрастанию два данных набора из трех чисел: (Ai, Bi, Ci) и (A2, B2, C2,)."
      ],
      "metadata": {
        "id": "sLEvoiK5jRZO"
      }
    },
    {
      "cell_type": "code",
      "source": [
        "# Описать функцию SortInc3 (A, B, C), меняющую содержимое\n",
        "# переменных A, B, C таким образом, чтобы их значения\n",
        "# оказались упорядоченными по возрастанию\n",
        "# (A, B, C - вещественные параметры, являющиеся\n",
        "# одновременно входными и выходными).\n",
        "# С помощью этой функции упорядочить по возрастанию\n",
        "# два данных набора из трех чисел: (Ai, Bi, Ci) и\n",
        "# (A2, B2, C2,).\n",
        "\n",
        "def SortInc3():\n",
        "    a = float(input(\"Введите число A: \"))\n",
        "    b = float(input(\"Введите число B: \"))\n",
        "    c = float(input(\"Введите число C: \"))\n",
        "    if (a > b) and (a > c):\n",
        "        a, c = c, a\n",
        "    if (a < b) and (b > c):\n",
        "        b, c = c, b\n",
        "    if (a > b) and (b < c):\n",
        "        a, b = b, a\n",
        "    print(a, b, c)\n",
        "\n",
        "\n",
        "SortInc3()\n",
        "SortInc3()"
      ],
      "metadata": {
        "id": "T5hQeaIPjRe0"
      },
      "execution_count": null,
      "outputs": []
    }
  ]
}