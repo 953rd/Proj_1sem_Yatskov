{
  "nbformat": 4,
  "nbformat_minor": 0,
  "metadata": {
    "colab": {
      "name": "Untitled0.ipynb",
      "provenance": [],
      "authorship_tag": "ABX9TyO80e7yL2SdfQAeAhQ/ZFRR",
      "include_colab_link": true
    },
    "kernelspec": {
      "name": "python3",
      "display_name": "Python 3"
    },
    "language_info": {
      "name": "python"
    }
  },
  "cells": [
    {
      "cell_type": "markdown",
      "metadata": {
        "id": "view-in-github",
        "colab_type": "text"
      },
      "source": [
        "<a href=\"https://colab.research.google.com/github/953rd/Proj_1sem_Yatskov/blob/master/PZ_11/PZ_2.ipynb\" target=\"_parent\"><img src=\"https://colab.research.google.com/assets/colab-badge.svg\" alt=\"Open In Colab\"/></a>"
      ]
    },
    {
      "cell_type": "markdown",
      "source": [
        "ПЗ №3"
      ],
      "metadata": {
        "id": "pAcHYdGv5zcC"
      }
    },
    {
      "cell_type": "markdown",
      "source": [
        "Даны целые числа a, b, c, являющиеся сторонами некоторого треугольника. Проверить истинность высказывания: «Треугольник со сторонами a, b, c является равнобедренным»."
      ],
      "metadata": {
        "id": "2WhIbod06d0A"
      }
    },
    {
      "cell_type": "code",
      "source": [
        "# Даны целые числа a, b, c, являющиеся сторонами некоторого треугольника.\n",
        "# Проверить истинность высказывания:\n",
        "# «Треугольник со сторонами a, b, c является равнобедренным».\n",
        "\n",
        "a = input(\"Введите размер стороны a треугольника: \")\n",
        "while type(a) != int:   # Обработка исключений\n",
        "    try:\n",
        "        a = int(a)\n",
        "    except ValueError:\n",
        "        print(\"Введен неверный размер!\")\n",
        "        a = input(\"Введите размер стороны a треугольника: \")\n",
        "\n",
        "b = input(\"Введите размер стороны b треугольника: \")\n",
        "while type(b) != int:   # Обработка исключений\n",
        "    try:\n",
        "        b = int(b)\n",
        "    except ValueError:\n",
        "        print(\"Введен неверный размер!\")\n",
        "        b = input(\"Введите размер стороны a треугольника: \")\n",
        "\n",
        "c = input(\"Введите размер стороны c треугольника: \")\n",
        "while type(c) != int:   # Обработка исключений\n",
        "    try:\n",
        "        c = int(c)\n",
        "    except ValueError:\n",
        "        print(\"Введен неверный размер!\")\n",
        "        c = input(\"Введите размер стороны a треугольника: \")\n",
        "\n",
        "if (a==b) or (a==c) or (b==c):\n",
        "    print(\"Высказывание «Треугольник со сторонами a, b, c является равнобедренным»\"\n",
        "          \" является истинным.\")\n",
        "else:\n",
        "    print(\"Высказывание «Треугольник со сторонами a, b, c является равнобедренным»\"\n",
        "          \" является ложным.\")"
      ],
      "metadata": {
        "colab": {
          "base_uri": "https://localhost:8080/"
        },
        "id": "79lp16hY5_U3",
        "outputId": "f90f1d3c-ff63-4e58-9792-e967f7aea8ef"
      },
      "execution_count": 1,
      "outputs": [
        {
          "output_type": "stream",
          "name": "stdout",
          "text": [
            "Введите размер стороны a треугольника: 7\n",
            "Введите размер стороны b треугольника: 3\n",
            "Введите размер стороны c треугольника: 15\n",
            "Высказывание «Треугольник со сторонами a, b, c является равнобедренным» является ложным.\n"
          ]
        }
      ]
    },
    {
      "cell_type": "markdown",
      "source": [
        "Даны три числа. Найти сумму двух наибольших из них."
      ],
      "metadata": {
        "id": "SE_OCVC36ptX"
      }
    },
    {
      "cell_type": "code",
      "source": [
        "# Даны три числа. Найти сумму двух наибольших из них.\n",
        "\n",
        "a = input(\"Введите 1-ое число: \")\n",
        "while type(a) != float:  # Обработка исключений\n",
        "    try:\n",
        "        a = float(a)\n",
        "    except ValueError:\n",
        "        print(\"Введено не число!\")\n",
        "        a = input(\"Введите 1-ое число: \")\n",
        "\n",
        "b = input(\"Введите 2-ое число: \")\n",
        "while type(b) != float:  # Обработка исключений\n",
        "    try:\n",
        "        b = float(b)\n",
        "    except ValueError:\n",
        "        print(\"Введено не число!\")\n",
        "        b = input(\"Введите 2-ое число: \")\n",
        "\n",
        "c = input(\"Введите 3-е число: \")\n",
        "while type(c) != float:  # Обработка исключений\n",
        "    try:\n",
        "        c = float(c)\n",
        "    except ValueError:\n",
        "        print(\"Введено не число!\")\n",
        "        c = input(\"Введите 3-е число: \")\n",
        "\n",
        "if (a > b > c):\n",
        "    print(\"Сумма двух наибольших чисел равна:\", a + b)\n",
        "elif (a > c > b):\n",
        "    print(\"Сумма двух наибольших чисел равна:\", a + c)\n",
        "else:\n",
        "    print(\"Сумма двух наибольших чисел равна:\", b + c)21"
      ],
      "metadata": {
        "colab": {
          "base_uri": "https://localhost:8080/"
        },
        "id": "MRCkzis-6xcX",
        "outputId": "3968bf2e-ac65-462c-9ea8-9f98d9b007c3"
      },
      "execution_count": 2,
      "outputs": [
        {
          "output_type": "stream",
          "name": "stdout",
          "text": [
            "Введите 1-ое число: 4\n",
            "Введите 2-ое число: 74\n",
            "Введите 3-е число: \n",
            "Введено не число!\n",
            "Введите 3-е число: 34\n",
            "Сумма двух наибольших чисел равна: 108.0\n"
          ]
        }
      ]
    }
  ]
}